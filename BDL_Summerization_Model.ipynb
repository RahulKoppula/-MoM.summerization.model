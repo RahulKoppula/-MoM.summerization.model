{
  "nbformat": 4,
  "nbformat_minor": 0,
  "metadata": {
    "colab": {
      "provenance": [],
      "authorship_tag": "ABX9TyP+cUEYB4o8M5rkakOyfpwB",
      "include_colab_link": true
    },
    "kernelspec": {
      "name": "python3",
      "display_name": "Python 3"
    },
    "language_info": {
      "name": "python"
    }
  },
  "cells": [
    {
      "cell_type": "markdown",
      "metadata": {
        "id": "view-in-github",
        "colab_type": "text"
      },
      "source": [
        "<a href=\"https://colab.research.google.com/github/RahulKoppula/-MoM.summerization.model/blob/main/BDL_Summerization_Model.ipynb\" target=\"_parent\"><img src=\"https://colab.research.google.com/assets/colab-badge.svg\" alt=\"Open In Colab\"/></a>"
      ]
    },
    {
      "cell_type": "markdown",
      "source": [
        " Cell 1: Install Required Python Packages\n",
        "\n",
        "This cell installs all the necessary libraries for transcription and summarization."
      ],
      "metadata": {
        "id": "pGiwOyODCPZI"
      }
    },
    {
      "cell_type": "code",
      "execution_count": 1,
      "metadata": {
        "collapsed": true,
        "id": "SzLYKASVXH8g"
      },
      "outputs": [],
      "source": [
        "!pip install --quiet openai-whisper torch transformers soundfile nltk"
      ]
    },
    {
      "cell_type": "markdown",
      "source": [
        " Cell 2: Upload Your Audio File\n",
        "\n",
        "This cell lets you upload your audio file and extracts its path automatically for later use"
      ],
      "metadata": {
        "id": "8XqcTQR8CbTf"
      }
    },
    {
      "cell_type": "code",
      "source": [
        "from google.colab import files\n",
        "uploaded = files.upload()\n",
        "# Get the filename (assuming only one file is uploaded)\n",
        "audio_path = list(uploaded.keys())[0]\n",
        "print(f\"Uploaded file: {audio_path}\")\n"
      ],
      "metadata": {
        "colab": {
          "base_uri": "https://localhost:8080/",
          "height": 92
        },
        "collapsed": true,
        "id": "TfV2cSE8nVHK",
        "outputId": "e0ae744a-9fe6-45b1-9a57-c660c0ff3330"
      },
      "execution_count": 2,
      "outputs": [
        {
          "output_type": "display_data",
          "data": {
            "text/plain": [
              "<IPython.core.display.HTML object>"
            ],
            "text/html": [
              "\n",
              "     <input type=\"file\" id=\"files-5329a5ee-c7fa-4a35-8e5b-39d5ed7b05a5\" name=\"files[]\" multiple disabled\n",
              "        style=\"border:none\" />\n",
              "     <output id=\"result-5329a5ee-c7fa-4a35-8e5b-39d5ed7b05a5\">\n",
              "      Upload widget is only available when the cell has been executed in the\n",
              "      current browser session. Please rerun this cell to enable.\n",
              "      </output>\n",
              "      <script>// Copyright 2017 Google LLC\n",
              "//\n",
              "// Licensed under the Apache License, Version 2.0 (the \"License\");\n",
              "// you may not use this file except in compliance with the License.\n",
              "// You may obtain a copy of the License at\n",
              "//\n",
              "//      http://www.apache.org/licenses/LICENSE-2.0\n",
              "//\n",
              "// Unless required by applicable law or agreed to in writing, software\n",
              "// distributed under the License is distributed on an \"AS IS\" BASIS,\n",
              "// WITHOUT WARRANTIES OR CONDITIONS OF ANY KIND, either express or implied.\n",
              "// See the License for the specific language governing permissions and\n",
              "// limitations under the License.\n",
              "\n",
              "/**\n",
              " * @fileoverview Helpers for google.colab Python module.\n",
              " */\n",
              "(function(scope) {\n",
              "function span(text, styleAttributes = {}) {\n",
              "  const element = document.createElement('span');\n",
              "  element.textContent = text;\n",
              "  for (const key of Object.keys(styleAttributes)) {\n",
              "    element.style[key] = styleAttributes[key];\n",
              "  }\n",
              "  return element;\n",
              "}\n",
              "\n",
              "// Max number of bytes which will be uploaded at a time.\n",
              "const MAX_PAYLOAD_SIZE = 100 * 1024;\n",
              "\n",
              "function _uploadFiles(inputId, outputId) {\n",
              "  const steps = uploadFilesStep(inputId, outputId);\n",
              "  const outputElement = document.getElementById(outputId);\n",
              "  // Cache steps on the outputElement to make it available for the next call\n",
              "  // to uploadFilesContinue from Python.\n",
              "  outputElement.steps = steps;\n",
              "\n",
              "  return _uploadFilesContinue(outputId);\n",
              "}\n",
              "\n",
              "// This is roughly an async generator (not supported in the browser yet),\n",
              "// where there are multiple asynchronous steps and the Python side is going\n",
              "// to poll for completion of each step.\n",
              "// This uses a Promise to block the python side on completion of each step,\n",
              "// then passes the result of the previous step as the input to the next step.\n",
              "function _uploadFilesContinue(outputId) {\n",
              "  const outputElement = document.getElementById(outputId);\n",
              "  const steps = outputElement.steps;\n",
              "\n",
              "  const next = steps.next(outputElement.lastPromiseValue);\n",
              "  return Promise.resolve(next.value.promise).then((value) => {\n",
              "    // Cache the last promise value to make it available to the next\n",
              "    // step of the generator.\n",
              "    outputElement.lastPromiseValue = value;\n",
              "    return next.value.response;\n",
              "  });\n",
              "}\n",
              "\n",
              "/**\n",
              " * Generator function which is called between each async step of the upload\n",
              " * process.\n",
              " * @param {string} inputId Element ID of the input file picker element.\n",
              " * @param {string} outputId Element ID of the output display.\n",
              " * @return {!Iterable<!Object>} Iterable of next steps.\n",
              " */\n",
              "function* uploadFilesStep(inputId, outputId) {\n",
              "  const inputElement = document.getElementById(inputId);\n",
              "  inputElement.disabled = false;\n",
              "\n",
              "  const outputElement = document.getElementById(outputId);\n",
              "  outputElement.innerHTML = '';\n",
              "\n",
              "  const pickedPromise = new Promise((resolve) => {\n",
              "    inputElement.addEventListener('change', (e) => {\n",
              "      resolve(e.target.files);\n",
              "    });\n",
              "  });\n",
              "\n",
              "  const cancel = document.createElement('button');\n",
              "  inputElement.parentElement.appendChild(cancel);\n",
              "  cancel.textContent = 'Cancel upload';\n",
              "  const cancelPromise = new Promise((resolve) => {\n",
              "    cancel.onclick = () => {\n",
              "      resolve(null);\n",
              "    };\n",
              "  });\n",
              "\n",
              "  // Wait for the user to pick the files.\n",
              "  const files = yield {\n",
              "    promise: Promise.race([pickedPromise, cancelPromise]),\n",
              "    response: {\n",
              "      action: 'starting',\n",
              "    }\n",
              "  };\n",
              "\n",
              "  cancel.remove();\n",
              "\n",
              "  // Disable the input element since further picks are not allowed.\n",
              "  inputElement.disabled = true;\n",
              "\n",
              "  if (!files) {\n",
              "    return {\n",
              "      response: {\n",
              "        action: 'complete',\n",
              "      }\n",
              "    };\n",
              "  }\n",
              "\n",
              "  for (const file of files) {\n",
              "    const li = document.createElement('li');\n",
              "    li.append(span(file.name, {fontWeight: 'bold'}));\n",
              "    li.append(span(\n",
              "        `(${file.type || 'n/a'}) - ${file.size} bytes, ` +\n",
              "        `last modified: ${\n",
              "            file.lastModifiedDate ? file.lastModifiedDate.toLocaleDateString() :\n",
              "                                    'n/a'} - `));\n",
              "    const percent = span('0% done');\n",
              "    li.appendChild(percent);\n",
              "\n",
              "    outputElement.appendChild(li);\n",
              "\n",
              "    const fileDataPromise = new Promise((resolve) => {\n",
              "      const reader = new FileReader();\n",
              "      reader.onload = (e) => {\n",
              "        resolve(e.target.result);\n",
              "      };\n",
              "      reader.readAsArrayBuffer(file);\n",
              "    });\n",
              "    // Wait for the data to be ready.\n",
              "    let fileData = yield {\n",
              "      promise: fileDataPromise,\n",
              "      response: {\n",
              "        action: 'continue',\n",
              "      }\n",
              "    };\n",
              "\n",
              "    // Use a chunked sending to avoid message size limits. See b/62115660.\n",
              "    let position = 0;\n",
              "    do {\n",
              "      const length = Math.min(fileData.byteLength - position, MAX_PAYLOAD_SIZE);\n",
              "      const chunk = new Uint8Array(fileData, position, length);\n",
              "      position += length;\n",
              "\n",
              "      const base64 = btoa(String.fromCharCode.apply(null, chunk));\n",
              "      yield {\n",
              "        response: {\n",
              "          action: 'append',\n",
              "          file: file.name,\n",
              "          data: base64,\n",
              "        },\n",
              "      };\n",
              "\n",
              "      let percentDone = fileData.byteLength === 0 ?\n",
              "          100 :\n",
              "          Math.round((position / fileData.byteLength) * 100);\n",
              "      percent.textContent = `${percentDone}% done`;\n",
              "\n",
              "    } while (position < fileData.byteLength);\n",
              "  }\n",
              "\n",
              "  // All done.\n",
              "  yield {\n",
              "    response: {\n",
              "      action: 'complete',\n",
              "    }\n",
              "  };\n",
              "}\n",
              "\n",
              "scope.google = scope.google || {};\n",
              "scope.google.colab = scope.google.colab || {};\n",
              "scope.google.colab._files = {\n",
              "  _uploadFiles,\n",
              "  _uploadFilesContinue,\n",
              "};\n",
              "})(self);\n",
              "</script> "
            ]
          },
          "metadata": {}
        },
        {
          "output_type": "stream",
          "name": "stdout",
          "text": [
            "Saving Harry_Truman_Announcing_Surrender_Of_Japan.ogg.mp3 to Harry_Truman_Announcing_Surrender_Of_Japan.ogg (2).mp3\n",
            "Uploaded file: Harry_Truman_Announcing_Surrender_Of_Japan.ogg (2).mp3\n"
          ]
        }
      ]
    },
    {
      "cell_type": "markdown",
      "source": [
        "Cell 3: Transcribe Audio to Readable Text\n",
        "\n",
        "This cell loads the Whisper model, transcribes the uploaded audio, and formats the transcript into readable sentences"
      ],
      "metadata": {
        "id": "4VJ08XWLChDp"
      }
    },
    {
      "cell_type": "code",
      "source": [
        "import whisper\n",
        "import nltk\n",
        "nltk.download('punkt')\n",
        "from nltk.tokenize import sent_tokenize\n",
        "import os\n",
        "\n",
        "# Load Whisper model only once\n",
        "whisper_model = whisper.load_model(\"base\")\n",
        "\n",
        "def transcribe_audio(filename):\n",
        "    if not os.path.exists(filename):\n",
        "        raise FileNotFoundError(f\"{filename} does not exist.\")\n",
        "    result = whisper_model.transcribe(filename)\n",
        "    return result['text']\n",
        "\n",
        "# Use audio_path from upload\n",
        "transcribed_text = transcribe_audio(audio_path)\n",
        "\n",
        "# Split into sentences for readability\n",
        "sentences = sent_tokenize(transcribed_text)\n",
        "\n",
        "print(\"Transcription (Formatted):\\n\")\n",
        "for sentence in sentences:\n",
        "    print(sentence.strip())\n",
        "\n"
      ],
      "metadata": {
        "colab": {
          "base_uri": "https://localhost:8080/"
        },
        "collapsed": true,
        "id": "sNNeUjVsiFSt",
        "outputId": "9ca1dc05-bdd2-4e33-8716-df7b13ab817e"
      },
      "execution_count": 3,
      "outputs": [
        {
          "output_type": "stream",
          "name": "stderr",
          "text": [
            "[nltk_data] Downloading package punkt to /root/nltk_data...\n",
            "[nltk_data]   Package punkt is already up-to-date!\n",
            "/usr/local/lib/python3.11/dist-packages/whisper/transcribe.py:132: UserWarning: FP16 is not supported on CPU; using FP32 instead\n",
            "  warnings.warn(\"FP16 is not supported on CPU; using FP32 instead\")\n"
          ]
        },
        {
          "output_type": "stream",
          "name": "stdout",
          "text": [
            "Transcription (Formatted):\n",
            "\n",
            "My fellow Americans, Supreme Allied Commander General McArthur and Allied representatives on the battleship Missouri in Tokyo Bay.\n",
            "The thoughts and hopes of all America, indeed of all the civilized world, are centered tonight on the battleship Missouri.\n",
            "There on that small piece of American soil, anchored in Tokyo Harbor, the Japanese have just officially laid down their arms.\n",
            "They have signed terms of unconditional surrender.\n",
            "Four years ago, the thoughts and fears of the whole civilized world were centered on another piece of American soil, Pearl Harbor.\n",
            "The mighty threat to civilization which began there is now laid at rest.\n",
            "It was a long road to Tokyo and a bloody one.\n",
            "We shall not forget Pearl Harbor.\n",
            "The Japanese militarists will not forget the USS Missouri.\n",
            "The evil done by the Japanese warlords can never be repaired or forgotten.\n",
            "But their power to destroy and kill has been taken from them.\n",
            "Their armies and what is left of their navy are now impotent.\n",
            "To all of us, there comes first the sense of gratitude to Almighty God, who sustained us and our allies in the dark days of grave danger, who made us to grow from weakness into the strongest fighting force in history, and who has now seen us overcome the forces of tyranny that sought to destroy his civilization.\n",
            "God granted in our pride this hour, we may not forget the hard tests that are still before us, that we may approach these with the same courage, zeal and patience, with which we face the trials and problems of the past four years.\n",
            "Our first thoughts, of course, thoughts of gracefulness and deep obligation go out to those of our loved ones who have been killed or mained in this terrible war.\n",
            "On land and sea and in the air, American men and women have given their lives so that this day of ultimate victory might come and assure the survival of a civilized world.\n",
            "No victory can make good their loss.\n",
            "We think of those who in death in this war has hurt, taking from them fathers, husbands, sons, brothers and sisters whom they love.\n",
            "No victory can bring back the faces they long to see.\n",
            "It is an all-in-one victory which these sacrifices have made possible, will be wisely used, and give them any comfort.\n",
            "It is our responsibility, our living, to see to it that this victory shall be our monument worthy of a dead who died to winning.\n",
            "All beings of men and women in our armed forces and merchant marine, all over the world, who, after years of sacrifice and hardship and peril, have been spared by providence from harm.\n",
            "We think of all the men and women and children who, during these years, have carried on at home in loneliness and anxiety and fear.\n",
            "Our thoughts go out to the millions of American workers in business name, to our farmers and miners, to all those who have bused up this country's fighting strength and who have shipped to our allies the means to resist and overcome the enemy.\n",
            "Our thoughts go out to our civil servants and to the thousands of Americans who, at personal sacrifice, have come to serve in our government during these trying years, to the members of the Selected Service boards and ration boards, to the civilian defense and Red Cross workers, to the men and women in the USO and in the entertainment world, through all those who have helped in this cooperative struggle to preserve liberty and decency in the world.\n",
            "We think of our departed, gallant leader, Franklin D. Roosevelt, Defender of Democracy, Architecture, World Peace and Cooperation.\n",
            "And our thoughts go out to our gallant allies in this war, to those who resisted the invaders, to those who were not strong enough to hold out, but who, nevertheless, kept the fires of resistance alive within the souls of their people.\n",
            "To those who stood up to get great odds and held the line, until the United Nations together were able to supply the arms and the men with which to overcome the forces of evil.\n",
            "This is a victory of more than arms alone.\n",
            "This is a victory of liberty over tyranny.\n",
            "From our war plants rolled the tanks and planes which blasted their way to the heart of our enemy.\n",
            "From our shipyards, spraying the ships, which bridged all the oceans of the world for our weapons and supplies.\n",
            "From our farm came the food and fiber, for our armies and navies and for our allies in all the corners of the earth.\n",
            "From our mines and factories came the raw materials and the finished product, which gave us the equipment to overcome our enemy.\n",
            "But back of it all, we're the will and spirit and determination of our free people, who know what freedom is and who know that it is worth whatever price they had to pay to preserve it.\n",
            "It was a spirit of liberty which gave us our arms strength and which made our men invincible in battle.\n",
            "We now know that that spirit of liberty, the freedom of the individual and the personal dignity of man are the strongest and toughest and most enduring forces in all the world.\n",
            "And so on VJ Day, we take renewed faith and pride in our own way of life.\n",
            "We have had our day of rejoicing over this victory.\n",
            "We have had our day of prayer and devotion.\n",
            "Now let us set aside VJ Day as one of renewed consecration to the principles which have made us the strongest nation on earth and which in this war we have driven so mightily to preserve.\n",
            "Those principles provide the faith, the hope and the opportunity which help men to improve themselves and their lives.\n",
            "Liberty does not make all men perfect nor all society secure it.\n",
            "But it has provided more solid progress and happiness and decency for more people than any other philosophy of government in history.\n",
            "And this day has shown again that it provides the greatest strength and the greatest power which man has ever reached.\n",
            "We know that under it we can meet the hard problems of peace which have come upon us.\n",
            "A free people with free allies who can develop an atomic bomb can use the same skill and energy and determination to overcome all of the particular needs of hell.\n",
            "Victory always has its burdens and its responsibilities as well as its rejoicing.\n",
            "But we face the future and all its dangers with great confidence and great hope.\n",
            "America can build for itself a future of employment and security.\n",
            "Together with United Nations it can build a world of peace founded on justice, fair dealing and tolerance.\n",
            "As President of the United States, our proclaimed Sunday September 2, 1945 to be VJ Day, the day of a formal surrender of Japan.\n",
            "It is not yet the day for the formal proclamation of the end of the war nor of the cessation of hostility.\n",
            "But it is a day which we Americans shall always remember as a day of rep tradition as we remember that other day, the day of infamy.\n",
            "On this day we move forward.\n",
            "We move toward a new era of security at home.\n",
            "With the other United Nations we move toward a new and better world of cooperation, of peace and international goodwill.\n",
            "God's health has brought us to this day of victory.\n",
            "With his help we will attain that peace and prosperity for ourselves and all the world in the years ahead.\n"
          ]
        }
      ]
    },
    {
      "cell_type": "markdown",
      "source": [
        "Cell 4: Generate a Concise Summary of the Transcription\n",
        "\n",
        "This cell uses a pre-trained BART model to summarize the transcribed text, handling long transcriptions automatically"
      ],
      "metadata": {
        "id": "37oemNvsCmDy"
      }
    },
    {
      "cell_type": "code",
      "source": [
        "\n",
        "from transformers import pipeline\n",
        "from nltk.tokenize import sent_tokenize\n",
        "import textwrap\n",
        "\n",
        "# Load the text summarization pipeline (BART model)\n",
        "summarizer = pipeline(\"summarization\", model=\"facebook/bart-large-cnn\")\n",
        "\n",
        "def summarize_text(text, max_chunk_length=500):\n",
        "    sentences = sent_tokenize(text)\n",
        "    current_chunk = \"\"\n",
        "    chunks = []\n",
        "    for sentence in sentences:\n",
        "        if len(current_chunk) + len(sentence) + 1 <= max_chunk_length:\n",
        "            current_chunk += (sentence + \" \")\n",
        "        else:\n",
        "            chunks.append(current_chunk.strip())\n",
        "            current_chunk = sentence + \" \"\n",
        "    if current_chunk:\n",
        "        chunks.append(current_chunk.strip())\n",
        "    summaries = []\n",
        "    for chunk in chunks:\n",
        "        try:\n",
        "            summary = summarizer(chunk, max_length=100, min_length=25, do_sample=False)\n",
        "            summaries.append(summary[0]['summary_text'])\n",
        "        except Exception as e:\n",
        "            print(f\"Error summarizing chunk: {e}\")\n",
        "    combined_summary = \" \".join(summaries)\n",
        "    return combined_summary\n",
        "\n",
        "# Summarize the transcribed text\n",
        "concise_summary = summarize_text(transcribed_text)\n",
        "\n",
        "# Split the summary into sentences for bullet listing\n",
        "summary_sentences = sent_tokenize(concise_summary)\n",
        "\n",
        "print(\"Summary (Bullet Points):\\n\")\n",
        "for sentence in summary_sentences:\n",
        "    # Wrap text for neat display, bullet at the start\n",
        "    wrapped = textwrap.fill(sentence.strip(), width=100, initial_indent=\"• \", subsequent_indent=\"  \")\n",
        "    print(wrapped)\n",
        "\n"
      ],
      "metadata": {
        "colab": {
          "base_uri": "https://localhost:8080/"
        },
        "collapsed": true,
        "id": "CL4I35WCiHVJ",
        "outputId": "6e380185-d9f1-4506-9a76-acbaa00c37d1"
      },
      "execution_count": 4,
      "outputs": [
        {
          "output_type": "stream",
          "name": "stderr",
          "text": [
            "/usr/local/lib/python3.11/dist-packages/huggingface_hub/utils/_auth.py:94: UserWarning: \n",
            "The secret `HF_TOKEN` does not exist in your Colab secrets.\n",
            "To authenticate with the Hugging Face Hub, create a token in your settings tab (https://huggingface.co/settings/tokens), set it as secret in your Google Colab and restart your session.\n",
            "You will be able to reuse this secret in all of your notebooks.\n",
            "Please note that authentication is recommended but still optional to access public models or datasets.\n",
            "  warnings.warn(\n",
            "Device set to use cpu\n",
            "Your max_length is set to 100, but your input_length is only 80. Since this is a summarization task, where outputs shorter than the input are typically wanted, you might consider decreasing max_length manually, e.g. summarizer('...', max_length=40)\n",
            "Your max_length is set to 100, but your input_length is only 99. Since this is a summarization task, where outputs shorter than the input are typically wanted, you might consider decreasing max_length manually, e.g. summarizer('...', max_length=49)\n",
            "Your max_length is set to 100, but your input_length is only 79. Since this is a summarization task, where outputs shorter than the input are typically wanted, you might consider decreasing max_length manually, e.g. summarizer('...', max_length=39)\n",
            "Your max_length is set to 100, but your input_length is only 85. Since this is a summarization task, where outputs shorter than the input are typically wanted, you might consider decreasing max_length manually, e.g. summarizer('...', max_length=42)\n",
            "Your max_length is set to 100, but your input_length is only 86. Since this is a summarization task, where outputs shorter than the input are typically wanted, you might consider decreasing max_length manually, e.g. summarizer('...', max_length=43)\n",
            "Your max_length is set to 100, but your input_length is only 96. Since this is a summarization task, where outputs shorter than the input are typically wanted, you might consider decreasing max_length manually, e.g. summarizer('...', max_length=48)\n",
            "Your max_length is set to 100, but your input_length is only 79. Since this is a summarization task, where outputs shorter than the input are typically wanted, you might consider decreasing max_length manually, e.g. summarizer('...', max_length=39)\n",
            "Your max_length is set to 100, but your input_length is only 89. Since this is a summarization task, where outputs shorter than the input are typically wanted, you might consider decreasing max_length manually, e.g. summarizer('...', max_length=44)\n",
            "Your max_length is set to 100, but your input_length is only 78. Since this is a summarization task, where outputs shorter than the input are typically wanted, you might consider decreasing max_length manually, e.g. summarizer('...', max_length=39)\n",
            "Your max_length is set to 100, but your input_length is only 94. Since this is a summarization task, where outputs shorter than the input are typically wanted, you might consider decreasing max_length manually, e.g. summarizer('...', max_length=47)\n",
            "Your max_length is set to 100, but your input_length is only 99. Since this is a summarization task, where outputs shorter than the input are typically wanted, you might consider decreasing max_length manually, e.g. summarizer('...', max_length=49)\n",
            "Your max_length is set to 100, but your input_length is only 76. Since this is a summarization task, where outputs shorter than the input are typically wanted, you might consider decreasing max_length manually, e.g. summarizer('...', max_length=38)\n",
            "Your max_length is set to 100, but your input_length is only 66. Since this is a summarization task, where outputs shorter than the input are typically wanted, you might consider decreasing max_length manually, e.g. summarizer('...', max_length=33)\n",
            "Your max_length is set to 100, but your input_length is only 96. Since this is a summarization task, where outputs shorter than the input are typically wanted, you might consider decreasing max_length manually, e.g. summarizer('...', max_length=48)\n",
            "Your max_length is set to 100, but your input_length is only 57. Since this is a summarization task, where outputs shorter than the input are typically wanted, you might consider decreasing max_length manually, e.g. summarizer('...', max_length=28)\n"
          ]
        },
        {
          "output_type": "stream",
          "name": "stdout",
          "text": [
            "Summary (Bullet Points):\n",
            "\n",
            "• The thoughts and hopes of all America, indeed of all the civilized world, are centered tonight on\n",
            "  the battleship Missouri.\n",
            "• There on that small piece of American soil, anchored in Tokyo Harbor, the Japanese have just\n",
            "  officially laid down their arms.\n",
            "• The evil done by the Japanese warlords can never be repaired or forgotten.\n",
            "• Their power to destroy and kill has been taken from them.\n",
            "• We shall not forget Pearl Harbor.\n",
            "• \"Their armies and what is left of their navy are now impotent,\" he said.\n",
            "• \"To all of us, there comes first the sense of gratitude to Almighty God\" Our first thoughts, of\n",
            "  course, thoughts of gracefulness and deep obligation go out to those of our loved ones who have\n",
            "  been killed or mained in this terrible war.\n",
            "• God granted in our pride this hour, we may not forget the hard tests that are still before us.\n",
            "• No victory can make good their loss.\n",
            "• On land and sea and in the air, American men and women have given their lives.\n",
            "• No victory can bring back the faces they long to see.\n",
            "• \"It is an all-in-one victory which these sacrifices have made possible, will be wisely used, and\n",
            "  give them any comfort,\" he said.\n",
            "• We think of all the men and women and children who, during these years, have carried on at home in\n",
            "  loneliness and anxiety and fear.\n",
            "• Our thoughts go out to the millions of American workers in business name, to our farmers and\n",
            "  miners, to all those who have bused up this country's fighting strength.\n",
            "• Our thoughts go out to our civil servants and to the thousands of Americans who, at personal\n",
            "  sacrifice, have come to serve in our government during these trying years.\n",
            "• We think of our departed, gallant leader, Franklin D. Roosevelt.\n",
            "• And our thoughts go out to our gallant allies in this war, to those who resisted the invaders.\n",
            "• \"This is a victory of more than arms alone.\n",
            "• This is a battle of liberty over tyranny,\" he said.\n",
            "• From our farm came the food and fiber, for our armies and navies and for our allies in all the\n",
            "  corners of the earth.\n",
            "• From our mines and factories came the raw materials and the finished product, which gave us the\n",
            "  equipment to overcome our enemy.\n",
            "• Back of it all, we're the will and spirit and determination of our free people.\n",
            "• We now know that that spirit of liberty, the freedom of the individual and the personal dignity of\n",
            "  man are the strongest and toughest and most enduring forces in all the world.\n",
            "• We have had our day of rejoicing over this victory.\n",
            "• Let us set aside VJ Day as one of renewed consecration to the principles which have made us the\n",
            "  strongest nation on earth.\n",
            "• Those principles provide the faith, the hope and the opportunity which help men to improve\n",
            "  themselves.\n",
            "• Liberty does not make all men perfect nor all society secure it.\n",
            "• It has provided more solid progress and happiness and decency for more people than any other\n",
            "  philosophy of government in history.\n",
            "• We know that under it we can meet the hard problems of peace which have come upon us.\n",
            "• A free people with free allies who can develop an atomic bomb can use the same skill and energy\n",
            "  and determination to overcome all of the particular needs of hell.\n",
            "• America can build for itself a future of employment and security.\n",
            "• Together with United Nations it can build a world of peace founded on justice, fair dealing and\n",
            "  tolerance.\n",
            "• President Roosevelt proclaimed September 2, 1945 to be VJ Day, the day of a formal surrender of\n",
            "  Japan.\n",
            "• \"On this day we move forward,\" he said.\n",
            "• With the other United Nations we move toward a new and better world of cooperation, of peace and\n",
            "  international goodwill.\n",
            "• God's health has brought us to this day of victory.\n",
            "• With his help we will attain that peace and prosperity for ourselves and all the world.\n"
          ]
        }
      ]
    },
    {
      "cell_type": "markdown",
      "source": [
        " Cell 5: Complete Pipeline – Transcribe and Summarize\n",
        "\n",
        "This snippet of code defines and demonstrates a function that takes an audio file, transcribes, and summarizes it in a single step. To be used when implementing a web based UI."
      ],
      "metadata": {
        "id": "_1lpKlnpCypZ"
      }
    },
    {
      "cell_type": "code",
      "source": [
        "# def transcribe_and_summarize(audio_file):\n",
        "#     transcription = transcribe_audio(audio_file)\n",
        "#     summary = summarize_text(transcription)\n",
        "#     return {\"transcription\": transcription, \"summary\": summary}\n",
        "\n",
        "# # Usage with uploaded file\n",
        "# result = transcribe_and_summarize(audio_path)\n",
        "# print(\"\\n--- Full Transcription ---\\n\")\n",
        "# print(result['transcription'])\n",
        "\n",
        "# print(\"\\n--- Summary ---\\n\")\n",
        "# print(result['summary'])\n"
      ],
      "metadata": {
        "colab": {
          "base_uri": "https://localhost:8080/"
        },
        "collapsed": true,
        "id": "oi2dDTUPuNfp",
        "outputId": "112d3181-a4dd-4d9b-f50a-988fa7cabf1d"
      },
      "execution_count": 5,
      "outputs": [
        {
          "output_type": "stream",
          "name": "stderr",
          "text": [
            "/usr/local/lib/python3.11/dist-packages/whisper/transcribe.py:132: UserWarning: FP16 is not supported on CPU; using FP32 instead\n",
            "  warnings.warn(\"FP16 is not supported on CPU; using FP32 instead\")\n",
            "Your max_length is set to 100, but your input_length is only 80. Since this is a summarization task, where outputs shorter than the input are typically wanted, you might consider decreasing max_length manually, e.g. summarizer('...', max_length=40)\n",
            "Your max_length is set to 100, but your input_length is only 99. Since this is a summarization task, where outputs shorter than the input are typically wanted, you might consider decreasing max_length manually, e.g. summarizer('...', max_length=49)\n",
            "Your max_length is set to 100, but your input_length is only 79. Since this is a summarization task, where outputs shorter than the input are typically wanted, you might consider decreasing max_length manually, e.g. summarizer('...', max_length=39)\n",
            "Your max_length is set to 100, but your input_length is only 85. Since this is a summarization task, where outputs shorter than the input are typically wanted, you might consider decreasing max_length manually, e.g. summarizer('...', max_length=42)\n",
            "Your max_length is set to 100, but your input_length is only 86. Since this is a summarization task, where outputs shorter than the input are typically wanted, you might consider decreasing max_length manually, e.g. summarizer('...', max_length=43)\n",
            "Your max_length is set to 100, but your input_length is only 96. Since this is a summarization task, where outputs shorter than the input are typically wanted, you might consider decreasing max_length manually, e.g. summarizer('...', max_length=48)\n",
            "Your max_length is set to 100, but your input_length is only 79. Since this is a summarization task, where outputs shorter than the input are typically wanted, you might consider decreasing max_length manually, e.g. summarizer('...', max_length=39)\n",
            "Your max_length is set to 100, but your input_length is only 89. Since this is a summarization task, where outputs shorter than the input are typically wanted, you might consider decreasing max_length manually, e.g. summarizer('...', max_length=44)\n",
            "Your max_length is set to 100, but your input_length is only 78. Since this is a summarization task, where outputs shorter than the input are typically wanted, you might consider decreasing max_length manually, e.g. summarizer('...', max_length=39)\n",
            "Your max_length is set to 100, but your input_length is only 94. Since this is a summarization task, where outputs shorter than the input are typically wanted, you might consider decreasing max_length manually, e.g. summarizer('...', max_length=47)\n",
            "Your max_length is set to 100, but your input_length is only 99. Since this is a summarization task, where outputs shorter than the input are typically wanted, you might consider decreasing max_length manually, e.g. summarizer('...', max_length=49)\n",
            "Your max_length is set to 100, but your input_length is only 76. Since this is a summarization task, where outputs shorter than the input are typically wanted, you might consider decreasing max_length manually, e.g. summarizer('...', max_length=38)\n",
            "Your max_length is set to 100, but your input_length is only 66. Since this is a summarization task, where outputs shorter than the input are typically wanted, you might consider decreasing max_length manually, e.g. summarizer('...', max_length=33)\n",
            "Your max_length is set to 100, but your input_length is only 96. Since this is a summarization task, where outputs shorter than the input are typically wanted, you might consider decreasing max_length manually, e.g. summarizer('...', max_length=48)\n",
            "Your max_length is set to 100, but your input_length is only 57. Since this is a summarization task, where outputs shorter than the input are typically wanted, you might consider decreasing max_length manually, e.g. summarizer('...', max_length=28)\n"
          ]
        },
        {
          "output_type": "stream",
          "name": "stdout",
          "text": [
            "\n",
            "--- Full Transcription ---\n",
            "\n",
            " My fellow Americans, Supreme Allied Commander General McArthur and Allied representatives on the battleship Missouri in Tokyo Bay. The thoughts and hopes of all America, indeed of all the civilized world, are centered tonight on the battleship Missouri. There on that small piece of American soil, anchored in Tokyo Harbor, the Japanese have just officially laid down their arms. They have signed terms of unconditional surrender. Four years ago, the thoughts and fears of the whole civilized world were centered on another piece of American soil, Pearl Harbor. The mighty threat to civilization which began there is now laid at rest. It was a long road to Tokyo and a bloody one. We shall not forget Pearl Harbor. The Japanese militarists will not forget the USS Missouri. The evil done by the Japanese warlords can never be repaired or forgotten. But their power to destroy and kill has been taken from them. Their armies and what is left of their navy are now impotent. To all of us, there comes first the sense of gratitude to Almighty God, who sustained us and our allies in the dark days of grave danger, who made us to grow from weakness into the strongest fighting force in history, and who has now seen us overcome the forces of tyranny that sought to destroy his civilization. God granted in our pride this hour, we may not forget the hard tests that are still before us, that we may approach these with the same courage, zeal and patience, with which we face the trials and problems of the past four years. Our first thoughts, of course, thoughts of gracefulness and deep obligation go out to those of our loved ones who have been killed or mained in this terrible war. On land and sea and in the air, American men and women have given their lives so that this day of ultimate victory might come and assure the survival of a civilized world. No victory can make good their loss. We think of those who in death in this war has hurt, taking from them fathers, husbands, sons, brothers and sisters whom they love. No victory can bring back the faces they long to see. It is an all-in-one victory which these sacrifices have made possible, will be wisely used, and give them any comfort. It is our responsibility, our living, to see to it that this victory shall be our monument worthy of a dead who died to winning. All beings of men and women in our armed forces and merchant marine, all over the world, who, after years of sacrifice and hardship and peril, have been spared by providence from harm. We think of all the men and women and children who, during these years, have carried on at home in loneliness and anxiety and fear. Our thoughts go out to the millions of American workers in business name, to our farmers and miners, to all those who have bused up this country's fighting strength and who have shipped to our allies the means to resist and overcome the enemy. Our thoughts go out to our civil servants and to the thousands of Americans who, at personal sacrifice, have come to serve in our government during these trying years, to the members of the Selected Service boards and ration boards, to the civilian defense and Red Cross workers, to the men and women in the USO and in the entertainment world, through all those who have helped in this cooperative struggle to preserve liberty and decency in the world. We think of our departed, gallant leader, Franklin D. Roosevelt, Defender of Democracy, Architecture, World Peace and Cooperation. And our thoughts go out to our gallant allies in this war, to those who resisted the invaders, to those who were not strong enough to hold out, but who, nevertheless, kept the fires of resistance alive within the souls of their people. To those who stood up to get great odds and held the line, until the United Nations together were able to supply the arms and the men with which to overcome the forces of evil. This is a victory of more than arms alone. This is a victory of liberty over tyranny. From our war plants rolled the tanks and planes which blasted their way to the heart of our enemy. From our shipyards, spraying the ships, which bridged all the oceans of the world for our weapons and supplies. From our farm came the food and fiber, for our armies and navies and for our allies in all the corners of the earth. From our mines and factories came the raw materials and the finished product, which gave us the equipment to overcome our enemy. But back of it all, we're the will and spirit and determination of our free people, who know what freedom is and who know that it is worth whatever price they had to pay to preserve it. It was a spirit of liberty which gave us our arms strength and which made our men invincible in battle. We now know that that spirit of liberty, the freedom of the individual and the personal dignity of man are the strongest and toughest and most enduring forces in all the world. And so on VJ Day, we take renewed faith and pride in our own way of life. We have had our day of rejoicing over this victory. We have had our day of prayer and devotion. Now let us set aside VJ Day as one of renewed consecration to the principles which have made us the strongest nation on earth and which in this war we have driven so mightily to preserve. Those principles provide the faith, the hope and the opportunity which help men to improve themselves and their lives. Liberty does not make all men perfect nor all society secure it. But it has provided more solid progress and happiness and decency for more people than any other philosophy of government in history. And this day has shown again that it provides the greatest strength and the greatest power which man has ever reached. We know that under it we can meet the hard problems of peace which have come upon us. A free people with free allies who can develop an atomic bomb can use the same skill and energy and determination to overcome all of the particular needs of hell. Victory always has its burdens and its responsibilities as well as its rejoicing. But we face the future and all its dangers with great confidence and great hope. America can build for itself a future of employment and security. Together with United Nations it can build a world of peace founded on justice, fair dealing and tolerance. As President of the United States, our proclaimed Sunday September 2, 1945 to be VJ Day, the day of a formal surrender of Japan. It is not yet the day for the formal proclamation of the end of the war nor of the cessation of hostility. But it is a day which we Americans shall always remember as a day of rep tradition as we remember that other day, the day of infamy. On this day we move forward. We move toward a new era of security at home. With the other United Nations we move toward a new and better world of cooperation, of peace and international goodwill. God's health has brought us to this day of victory. With his help we will attain that peace and prosperity for ourselves and all the world in the years ahead.\n",
            "\n",
            "--- Summary ---\n",
            "\n",
            "The thoughts and hopes of all America, indeed of all the civilized world, are centered tonight on the battleship Missouri. There on that small piece of American soil, anchored in Tokyo Harbor, the Japanese have just officially laid down their arms. The evil done by the Japanese warlords can never be repaired or forgotten. Their power to destroy and kill has been taken from them. We shall not forget Pearl Harbor. \"Their armies and what is left of their navy are now impotent,\" he said. \"To all of us, there comes first the sense of gratitude to Almighty God\" Our first thoughts, of course, thoughts of gracefulness and deep obligation go out to those of our loved ones who have been killed or mained in this terrible war. God granted in our pride this hour, we may not forget the hard tests that are still before us. No victory can make good their loss. On land and sea and in the air, American men and women have given their lives. No victory can bring back the faces they long to see. \"It is an all-in-one victory which these sacrifices have made possible, will be wisely used, and give them any comfort,\" he said. We think of all the men and women and children who, during these years, have carried on at home in loneliness and anxiety and fear. Our thoughts go out to the millions of American workers in business name, to our farmers and miners, to all those who have bused up this country's fighting strength. Our thoughts go out to our civil servants and to the thousands of Americans who, at personal sacrifice, have come to serve in our government during these trying years. We think of our departed, gallant leader, Franklin D. Roosevelt. And our thoughts go out to our gallant allies in this war, to those who resisted the invaders. \"This is a victory of more than arms alone. This is a battle of liberty over tyranny,\" he said. From our farm came the food and fiber, for our armies and navies and for our allies in all the corners of the earth. From our mines and factories came the raw materials and the finished product, which gave us the equipment to overcome our enemy. Back of it all, we're the will and spirit and determination of our free people. We now know that that spirit of liberty, the freedom of the individual and the personal dignity of man are the strongest and toughest and most enduring forces in all the world. We have had our day of rejoicing over this victory. Let us set aside VJ Day as one of renewed consecration to the principles which have made us the strongest nation on earth. Those principles provide the faith, the hope and the opportunity which help men to improve themselves. Liberty does not make all men perfect nor all society secure it. It has provided more solid progress and happiness and decency for more people than any other philosophy of government in history. We know that under it we can meet the hard problems of peace which have come upon us. A free people with free allies who can develop an atomic bomb can use the same skill and energy and determination to overcome all of the particular needs of hell. America can build for itself a future of employment and security. Together with United Nations it can build a world of peace founded on justice, fair dealing and tolerance. President Roosevelt proclaimed September 2, 1945 to be VJ Day, the day of a formal surrender of Japan. \"On this day we move forward,\" he said. With the other United Nations we move toward a new and better world of cooperation, of peace and international goodwill. God's health has brought us to this day of victory. With his help we will attain that peace and prosperity for ourselves and all the world.\n"
          ]
        }
      ]
    }
  ]
}